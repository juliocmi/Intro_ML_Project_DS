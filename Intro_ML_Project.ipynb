{
  "cells": [
    {
      "cell_type": "markdown",
      "metadata": {
        "id": "x6vCoyDPKGPx"
      },
      "source": [
        "# Project : Introduction to Machine Learning\n",
        "---\n",
        "\n",
        "# Project Description\n",
        "\n",
        "The mobile company **Megaline** is not satisfied to see that many of its customers use legacy plans. They want to develop a model that can analyze customer behavior and recommend one of Megaline’s new plans: **Smart** or **Ultra**.\n",
        "\n",
        "For this project, we have access to the behavior data of subscribers who have already switched to new plans. For this sorting **task**, we must create a **model** that chooses the right plan. Since you’ve already taken the step of processing the data, you can jump right into creating the model.\n",
        "\n",
        "We will develop a model as accurately as possible. In this project, the **accuracy** threshold is **0.75**. We’ll use the dataset to check accuracy.\n",
        "\n",
        "# Project Instructions\n",
        "---\n",
        "\n",
        "For this **project** we will be working with the following **points**:\n",
        "\n",
        "1. Open and browse the data file.\n",
        "2. Segment the source data into a training, validation and test set.\n",
        "3. Investigate the quality of different models by changing the hyperparameters and briefly describe the study findings.\n",
        "4. Check the quality of the model using the test set.\n",
        "5. Additional task: perform a sanity test on the model."
      ]
    },
    {
      "cell_type": "markdown",
      "metadata": {
        "id": "P31lQW7wKGPy"
      },
      "source": [
        "## Data Loading and General Survey of Information.\n",
        "---"
      ]
    },
    {
      "cell_type": "markdown",
      "metadata": {
        "id": "VIRhSeFyKGPy"
      },
      "source": [
        "Load Libraries"
      ]
    },
    {
      "cell_type": "code",
      "execution_count": 1,
      "metadata": {
        "id": "kVE9fV9PKGPy"
      },
      "outputs": [],
      "source": [
        "import pandas as pd\n",
        "\n",
        "from sklearn.model_selection import train_test_split\n",
        "from sklearn.linear_model import LogisticRegression\n",
        "from sklearn.ensemble import RandomForestClassifier\n",
        "from sklearn.tree import DecisionTreeClassifier\n",
        "from sklearn.dummy import DummyClassifier\n",
        "from sklearn.metrics import accuracy_score"
      ]
    },
    {
      "cell_type": "markdown",
      "metadata": {
        "id": "sa-yNhzAKGPz"
      },
      "source": [
        "Uploading Files"
      ]
    },
    {
      "cell_type": "code",
      "execution_count": 2,
      "metadata": {
        "id": "pB2OT9nxKGPz"
      },
      "outputs": [],
      "source": [
        "clientes = pd.read_csv('/content/users_behavior.csv')"
      ]
    },
    {
      "cell_type": "markdown",
      "metadata": {
        "id": "dXi0aR__KGPz"
      },
      "source": [
        "Cantidad de características y objetivo."
      ]
    },
    {
      "cell_type": "code",
      "execution_count": 3,
      "metadata": {
        "colab": {
          "base_uri": "https://localhost:8080/"
        },
        "id": "gcotCc07KGPz",
        "outputId": "cf51ab54-5fbe-4780-ae69-891f79f7f2b3"
      },
      "outputs": [
        {
          "output_type": "execute_result",
          "data": {
            "text/plain": [
              "(3214, 5)"
            ]
          },
          "metadata": {},
          "execution_count": 3
        }
      ],
      "source": [
        "clientes.shape"
      ]
    },
    {
      "cell_type": "markdown",
      "metadata": {
        "id": "9LL1RCFLKGP0"
      },
      "source": [
        "Data type in columns"
      ]
    },
    {
      "cell_type": "code",
      "execution_count": 4,
      "metadata": {
        "colab": {
          "base_uri": "https://localhost:8080/"
        },
        "id": "R-_VltgOKGP0",
        "outputId": "fade0f48-be07-4e06-d5f3-df18e5806122"
      },
      "outputs": [
        {
          "output_type": "execute_result",
          "data": {
            "text/plain": [
              "calls       float64\n",
              "minutes     float64\n",
              "messages    float64\n",
              "mb_used     float64\n",
              "is_ultra      int64\n",
              "dtype: object"
            ]
          },
          "metadata": {},
          "execution_count": 4
        }
      ],
      "source": [
        "clientes.dtypes"
      ]
    },
    {
      "cell_type": "markdown",
      "metadata": {
        "id": "NPkd4bWvKGP0"
      },
      "source": [
        "The first 5 columns"
      ]
    },
    {
      "cell_type": "code",
      "execution_count": 5,
      "metadata": {
        "colab": {
          "base_uri": "https://localhost:8080/",
          "height": 206
        },
        "id": "u1XuheBxKGP0",
        "outputId": "e1df8a1b-a3f7-419f-ce15-ed5b272b19db"
      },
      "outputs": [
        {
          "output_type": "execute_result",
          "data": {
            "text/plain": [
              "   calls  minutes  messages   mb_used  is_ultra\n",
              "0   40.0   311.90      83.0  19915.42         0\n",
              "1   85.0   516.75      56.0  22696.96         0\n",
              "2   77.0   467.66      86.0  21060.45         0\n",
              "3  106.0   745.53      81.0   8437.39         1\n",
              "4   66.0   418.74       1.0  14502.75         0"
            ],
            "text/html": [
              "\n",
              "  <div id=\"df-fe4588e7-d812-4a63-b2a4-6543f233bcdb\">\n",
              "    <div class=\"colab-df-container\">\n",
              "      <div>\n",
              "<style scoped>\n",
              "    .dataframe tbody tr th:only-of-type {\n",
              "        vertical-align: middle;\n",
              "    }\n",
              "\n",
              "    .dataframe tbody tr th {\n",
              "        vertical-align: top;\n",
              "    }\n",
              "\n",
              "    .dataframe thead th {\n",
              "        text-align: right;\n",
              "    }\n",
              "</style>\n",
              "<table border=\"1\" class=\"dataframe\">\n",
              "  <thead>\n",
              "    <tr style=\"text-align: right;\">\n",
              "      <th></th>\n",
              "      <th>calls</th>\n",
              "      <th>minutes</th>\n",
              "      <th>messages</th>\n",
              "      <th>mb_used</th>\n",
              "      <th>is_ultra</th>\n",
              "    </tr>\n",
              "  </thead>\n",
              "  <tbody>\n",
              "    <tr>\n",
              "      <th>0</th>\n",
              "      <td>40.0</td>\n",
              "      <td>311.90</td>\n",
              "      <td>83.0</td>\n",
              "      <td>19915.42</td>\n",
              "      <td>0</td>\n",
              "    </tr>\n",
              "    <tr>\n",
              "      <th>1</th>\n",
              "      <td>85.0</td>\n",
              "      <td>516.75</td>\n",
              "      <td>56.0</td>\n",
              "      <td>22696.96</td>\n",
              "      <td>0</td>\n",
              "    </tr>\n",
              "    <tr>\n",
              "      <th>2</th>\n",
              "      <td>77.0</td>\n",
              "      <td>467.66</td>\n",
              "      <td>86.0</td>\n",
              "      <td>21060.45</td>\n",
              "      <td>0</td>\n",
              "    </tr>\n",
              "    <tr>\n",
              "      <th>3</th>\n",
              "      <td>106.0</td>\n",
              "      <td>745.53</td>\n",
              "      <td>81.0</td>\n",
              "      <td>8437.39</td>\n",
              "      <td>1</td>\n",
              "    </tr>\n",
              "    <tr>\n",
              "      <th>4</th>\n",
              "      <td>66.0</td>\n",
              "      <td>418.74</td>\n",
              "      <td>1.0</td>\n",
              "      <td>14502.75</td>\n",
              "      <td>0</td>\n",
              "    </tr>\n",
              "  </tbody>\n",
              "</table>\n",
              "</div>\n",
              "      <button class=\"colab-df-convert\" onclick=\"convertToInteractive('df-fe4588e7-d812-4a63-b2a4-6543f233bcdb')\"\n",
              "              title=\"Convert this dataframe to an interactive table.\"\n",
              "              style=\"display:none;\">\n",
              "        \n",
              "  <svg xmlns=\"http://www.w3.org/2000/svg\" height=\"24px\"viewBox=\"0 0 24 24\"\n",
              "       width=\"24px\">\n",
              "    <path d=\"M0 0h24v24H0V0z\" fill=\"none\"/>\n",
              "    <path d=\"M18.56 5.44l.94 2.06.94-2.06 2.06-.94-2.06-.94-.94-2.06-.94 2.06-2.06.94zm-11 1L8.5 8.5l.94-2.06 2.06-.94-2.06-.94L8.5 2.5l-.94 2.06-2.06.94zm10 10l.94 2.06.94-2.06 2.06-.94-2.06-.94-.94-2.06-.94 2.06-2.06.94z\"/><path d=\"M17.41 7.96l-1.37-1.37c-.4-.4-.92-.59-1.43-.59-.52 0-1.04.2-1.43.59L10.3 9.45l-7.72 7.72c-.78.78-.78 2.05 0 2.83L4 21.41c.39.39.9.59 1.41.59.51 0 1.02-.2 1.41-.59l7.78-7.78 2.81-2.81c.8-.78.8-2.07 0-2.86zM5.41 20L4 18.59l7.72-7.72 1.47 1.35L5.41 20z\"/>\n",
              "  </svg>\n",
              "      </button>\n",
              "      \n",
              "  <style>\n",
              "    .colab-df-container {\n",
              "      display:flex;\n",
              "      flex-wrap:wrap;\n",
              "      gap: 12px;\n",
              "    }\n",
              "\n",
              "    .colab-df-convert {\n",
              "      background-color: #E8F0FE;\n",
              "      border: none;\n",
              "      border-radius: 50%;\n",
              "      cursor: pointer;\n",
              "      display: none;\n",
              "      fill: #1967D2;\n",
              "      height: 32px;\n",
              "      padding: 0 0 0 0;\n",
              "      width: 32px;\n",
              "    }\n",
              "\n",
              "    .colab-df-convert:hover {\n",
              "      background-color: #E2EBFA;\n",
              "      box-shadow: 0px 1px 2px rgba(60, 64, 67, 0.3), 0px 1px 3px 1px rgba(60, 64, 67, 0.15);\n",
              "      fill: #174EA6;\n",
              "    }\n",
              "\n",
              "    [theme=dark] .colab-df-convert {\n",
              "      background-color: #3B4455;\n",
              "      fill: #D2E3FC;\n",
              "    }\n",
              "\n",
              "    [theme=dark] .colab-df-convert:hover {\n",
              "      background-color: #434B5C;\n",
              "      box-shadow: 0px 1px 3px 1px rgba(0, 0, 0, 0.15);\n",
              "      filter: drop-shadow(0px 1px 2px rgba(0, 0, 0, 0.3));\n",
              "      fill: #FFFFFF;\n",
              "    }\n",
              "  </style>\n",
              "\n",
              "      <script>\n",
              "        const buttonEl =\n",
              "          document.querySelector('#df-fe4588e7-d812-4a63-b2a4-6543f233bcdb button.colab-df-convert');\n",
              "        buttonEl.style.display =\n",
              "          google.colab.kernel.accessAllowed ? 'block' : 'none';\n",
              "\n",
              "        async function convertToInteractive(key) {\n",
              "          const element = document.querySelector('#df-fe4588e7-d812-4a63-b2a4-6543f233bcdb');\n",
              "          const dataTable =\n",
              "            await google.colab.kernel.invokeFunction('convertToInteractive',\n",
              "                                                     [key], {});\n",
              "          if (!dataTable) return;\n",
              "\n",
              "          const docLinkHtml = 'Like what you see? Visit the ' +\n",
              "            '<a target=\"_blank\" href=https://colab.research.google.com/notebooks/data_table.ipynb>data table notebook</a>'\n",
              "            + ' to learn more about interactive tables.';\n",
              "          element.innerHTML = '';\n",
              "          dataTable['output_type'] = 'display_data';\n",
              "          await google.colab.output.renderOutput(dataTable, element);\n",
              "          const docLink = document.createElement('div');\n",
              "          docLink.innerHTML = docLinkHtml;\n",
              "          element.appendChild(docLink);\n",
              "        }\n",
              "      </script>\n",
              "    </div>\n",
              "  </div>\n",
              "  "
            ]
          },
          "metadata": {},
          "execution_count": 5
        }
      ],
      "source": [
        "clientes.head(5)"
      ]
    },
    {
      "cell_type": "markdown",
      "metadata": {
        "id": "MWgBI3TYKGP0"
      },
      "source": [
        "General information"
      ]
    },
    {
      "cell_type": "code",
      "execution_count": 6,
      "metadata": {
        "colab": {
          "base_uri": "https://localhost:8080/"
        },
        "id": "M3oM3UQGKGP0",
        "outputId": "7e3f9e93-b0f0-45f4-b76d-69d0ea78c2f9"
      },
      "outputs": [
        {
          "output_type": "stream",
          "name": "stdout",
          "text": [
            "<class 'pandas.core.frame.DataFrame'>\n",
            "RangeIndex: 3214 entries, 0 to 3213\n",
            "Data columns (total 5 columns):\n",
            " #   Column    Non-Null Count  Dtype  \n",
            "---  ------    --------------  -----  \n",
            " 0   calls     3214 non-null   float64\n",
            " 1   minutes   3214 non-null   float64\n",
            " 2   messages  3214 non-null   float64\n",
            " 3   mb_used   3214 non-null   float64\n",
            " 4   is_ultra  3214 non-null   int64  \n",
            "dtypes: float64(4), int64(1)\n",
            "memory usage: 125.7 KB\n"
          ]
        }
      ],
      "source": [
        "clientes.info()"
      ]
    },
    {
      "cell_type": "markdown",
      "metadata": {
        "id": "Bh7L-wq8KGP0"
      },
      "source": [
        "**OBSERVATIONS**\n",
        "\n",
        "**Description of Data**\n",
        "\n",
        "Each observation in the dataset contains monthly behavior information about the user. The information given is as follows:\n",
        "\n",
        "- `сalls` - number of calls,\n",
        "- `minutes` - total call time in minutes,\n",
        "- `messages` - number of text messages,\n",
        "- `mb_used` - Internet traffic used in MB,\n",
        "- `is_ultra` - plan for the current month (Ultra - 1, Smart - 0)"
      ]
    },
    {
      "cell_type": "markdown",
      "metadata": {
        "id": "67KwQ8-CKGP1"
      },
      "source": [
        "Our data are in order and have no problems to solve, now in the next section we will start with the process of development of our trained model."
      ]
    },
    {
      "cell_type": "markdown",
      "metadata": {
        "id": "04of9MT3KGP1"
      },
      "source": [
        "## Data Segmentation\n",
        "---\n",
        "\n",
        "In this section, we will **split the matrix** into three parts to order it as follows:\n",
        "\n",
        "- **Training** set (60%)\n",
        "- **Validation** set (20%)\n",
        "- **Test** set (20%)\n",
        "\n",
        "It will be done this way since there is no test dataset and we must create it prior to the training of the source dataset. To make our segmentation, first let’s define our features and our goal as follows:"
      ]
    },
    {
      "cell_type": "code",
      "execution_count": 7,
      "metadata": {
        "id": "_Ta6nFrbKGP1"
      },
      "outputs": [],
      "source": [
        "features = clientes.drop(['is_ultra'], axis=1)\n",
        "target   = clientes['is_ultra']                "
      ]
    },
    {
      "cell_type": "markdown",
      "metadata": {
        "id": "VpA7BL87KGP1"
      },
      "source": [
        "Get training set (80%) and test (20%)"
      ]
    },
    {
      "cell_type": "code",
      "execution_count": 8,
      "metadata": {
        "id": "W_c8JpT3KGP1"
      },
      "outputs": [],
      "source": [
        "X_rest, X_test, y_rest, y_test = train_test_split(\n",
        "    features, \n",
        "    target, \n",
        "    test_size = 0.20, \n",
        "    random_state=12345)"
      ]
    },
    {
      "cell_type": "markdown",
      "metadata": {
        "id": "k2-WspOzKGP1"
      },
      "source": [
        "Checking data split"
      ]
    },
    {
      "cell_type": "code",
      "execution_count": 9,
      "metadata": {
        "colab": {
          "base_uri": "https://localhost:8080/"
        },
        "id": "dz9J4MJwKGP1",
        "outputId": "82a799ca-936d-4317-b722-d15e6a8fe1d7"
      },
      "outputs": [
        {
          "output_type": "execute_result",
          "data": {
            "text/plain": [
              "((2571, 4), (2571,), (643, 4), (643,))"
            ]
          },
          "metadata": {},
          "execution_count": 9
        }
      ],
      "source": [
        "X_rest.shape, y_rest.shape, X_test.shape, y_test.shape"
      ]
    },
    {
      "cell_type": "markdown",
      "metadata": {
        "id": "Dt4_yv-IKGP1"
      },
      "source": [
        "Now we get the validation set (20%) using 80% of the previous resulting set to get 60%."
      ]
    },
    {
      "cell_type": "code",
      "execution_count": 10,
      "metadata": {
        "id": "uzP8Ka1lKGP2"
      },
      "outputs": [],
      "source": [
        "X_train, X_val, y_train, y_val = train_test_split(\n",
        "    X_rest,\n",
        "    y_rest, \n",
        "    test_size=0.25, \n",
        "    random_state=12345)"
      ]
    },
    {
      "cell_type": "markdown",
      "metadata": {
        "id": "PF4bclkEKGP2"
      },
      "source": [
        "Checking data split."
      ]
    },
    {
      "cell_type": "code",
      "execution_count": 11,
      "metadata": {
        "colab": {
          "base_uri": "https://localhost:8080/"
        },
        "id": "fLeDZopEKGP2",
        "outputId": "1fc3382b-c79a-4537-87c8-bca243c54374"
      },
      "outputs": [
        {
          "output_type": "execute_result",
          "data": {
            "text/plain": [
              "((1928, 4), (1928,), (643, 4), (643,))"
            ]
          },
          "metadata": {},
          "execution_count": 11
        }
      ],
      "source": [
        "X_train.shape, y_train.shape, X_val.shape, y_val.shape"
      ]
    },
    {
      "cell_type": "code",
      "execution_count": 12,
      "metadata": {
        "colab": {
          "base_uri": "https://localhost:8080/"
        },
        "id": "ppSR550SKGP2",
        "outputId": "a8a7f5de-8f0c-4272-8bfe-b74058019c4a"
      },
      "outputs": [
        {
          "output_type": "stream",
          "name": "stdout",
          "text": [
            "Training Dataset (60%). : (1928, 4) (1928,) \n",
            " Test Dataset (20%)      : (643, 4) (643,) \n",
            " Validation Dataset (20%): (643, 4) (643,)\n"
          ]
        }
      ],
      "source": [
        "print(\n",
        "    'Training Dataset (60%). :', X_train.shape, y_train.shape,'\\n',\n",
        "    'Test Dataset (20%)      :', X_test.shape , y_test.shape,'\\n',\n",
        "    'Validation Dataset (20%):', X_val.shape  , y_val.shape\n",
        ")"
      ]
    },
    {
      "cell_type": "markdown",
      "metadata": {
        "id": "ggz_W-j4KGP2"
      },
      "source": [
        "Comprobación del Split."
      ]
    },
    {
      "cell_type": "code",
      "execution_count": 13,
      "metadata": {
        "colab": {
          "base_uri": "https://localhost:8080/"
        },
        "id": "LTziMjOxKGP2",
        "outputId": "9d4e8e01-1b27-425f-e0c7-a18224f92b48"
      },
      "outputs": [
        {
          "output_type": "stream",
          "name": "stdout",
          "text": [
            "Original Dataset: 3214\n",
            "Total Splits.   : 3214\n"
          ]
        }
      ],
      "source": [
        "print('Original Dataset:', clientes.shape[0])\n",
        "print('Total Splits.   :', X_train.shape[0] + X_test.shape[0] + X_val.shape[0])"
      ]
    },
    {
      "cell_type": "markdown",
      "metadata": {
        "id": "ljRSpZYiKGP2"
      },
      "source": [
        "## Investigate the Quality of Different Models.\n",
        "---\n",
        "\n",
        "Since we have our datasets ready, we will now choose the best model to train for this task. First, we must consider that our task is *Classification,* so we must focus on it.\n",
        "\n",
        "For sorting tasks, we have 3 models that are:\n",
        "\n",
        "- decision tree.\n",
        "- logistic regression.\n",
        "- random forest.\n",
        "\n",
        "For our case, we will choose the logistic regression model because its execution speed is faster and because it has an intermediate precision that usually does not have over adjustment and can work for us. In addition, this model contributes to the application of binary events, that is, events where one or the other option occurs, so we go to our model."
      ]
    },
    {
      "cell_type": "markdown",
      "metadata": {
        "id": "svuCBvnqKGP2"
      },
      "source": [
        "### Logistic Regression Model"
      ]
    },
    {
      "cell_type": "code",
      "execution_count": 14,
      "metadata": {
        "colab": {
          "base_uri": "https://localhost:8080/",
          "height": 75
        },
        "id": "ZFHLooq6KGP8",
        "outputId": "8284f3b6-7e2c-4023-c659-a1eec6b3eb43"
      },
      "outputs": [
        {
          "output_type": "execute_result",
          "data": {
            "text/plain": [
              "LogisticRegression(random_state=12345)"
            ],
            "text/html": [
              "<style>#sk-container-id-1 {color: black;background-color: white;}#sk-container-id-1 pre{padding: 0;}#sk-container-id-1 div.sk-toggleable {background-color: white;}#sk-container-id-1 label.sk-toggleable__label {cursor: pointer;display: block;width: 100%;margin-bottom: 0;padding: 0.3em;box-sizing: border-box;text-align: center;}#sk-container-id-1 label.sk-toggleable__label-arrow:before {content: \"▸\";float: left;margin-right: 0.25em;color: #696969;}#sk-container-id-1 label.sk-toggleable__label-arrow:hover:before {color: black;}#sk-container-id-1 div.sk-estimator:hover label.sk-toggleable__label-arrow:before {color: black;}#sk-container-id-1 div.sk-toggleable__content {max-height: 0;max-width: 0;overflow: hidden;text-align: left;background-color: #f0f8ff;}#sk-container-id-1 div.sk-toggleable__content pre {margin: 0.2em;color: black;border-radius: 0.25em;background-color: #f0f8ff;}#sk-container-id-1 input.sk-toggleable__control:checked~div.sk-toggleable__content {max-height: 200px;max-width: 100%;overflow: auto;}#sk-container-id-1 input.sk-toggleable__control:checked~label.sk-toggleable__label-arrow:before {content: \"▾\";}#sk-container-id-1 div.sk-estimator input.sk-toggleable__control:checked~label.sk-toggleable__label {background-color: #d4ebff;}#sk-container-id-1 div.sk-label input.sk-toggleable__control:checked~label.sk-toggleable__label {background-color: #d4ebff;}#sk-container-id-1 input.sk-hidden--visually {border: 0;clip: rect(1px 1px 1px 1px);clip: rect(1px, 1px, 1px, 1px);height: 1px;margin: -1px;overflow: hidden;padding: 0;position: absolute;width: 1px;}#sk-container-id-1 div.sk-estimator {font-family: monospace;background-color: #f0f8ff;border: 1px dotted black;border-radius: 0.25em;box-sizing: border-box;margin-bottom: 0.5em;}#sk-container-id-1 div.sk-estimator:hover {background-color: #d4ebff;}#sk-container-id-1 div.sk-parallel-item::after {content: \"\";width: 100%;border-bottom: 1px solid gray;flex-grow: 1;}#sk-container-id-1 div.sk-label:hover label.sk-toggleable__label {background-color: #d4ebff;}#sk-container-id-1 div.sk-serial::before {content: \"\";position: absolute;border-left: 1px solid gray;box-sizing: border-box;top: 0;bottom: 0;left: 50%;z-index: 0;}#sk-container-id-1 div.sk-serial {display: flex;flex-direction: column;align-items: center;background-color: white;padding-right: 0.2em;padding-left: 0.2em;position: relative;}#sk-container-id-1 div.sk-item {position: relative;z-index: 1;}#sk-container-id-1 div.sk-parallel {display: flex;align-items: stretch;justify-content: center;background-color: white;position: relative;}#sk-container-id-1 div.sk-item::before, #sk-container-id-1 div.sk-parallel-item::before {content: \"\";position: absolute;border-left: 1px solid gray;box-sizing: border-box;top: 0;bottom: 0;left: 50%;z-index: -1;}#sk-container-id-1 div.sk-parallel-item {display: flex;flex-direction: column;z-index: 1;position: relative;background-color: white;}#sk-container-id-1 div.sk-parallel-item:first-child::after {align-self: flex-end;width: 50%;}#sk-container-id-1 div.sk-parallel-item:last-child::after {align-self: flex-start;width: 50%;}#sk-container-id-1 div.sk-parallel-item:only-child::after {width: 0;}#sk-container-id-1 div.sk-dashed-wrapped {border: 1px dashed gray;margin: 0 0.4em 0.5em 0.4em;box-sizing: border-box;padding-bottom: 0.4em;background-color: white;}#sk-container-id-1 div.sk-label label {font-family: monospace;font-weight: bold;display: inline-block;line-height: 1.2em;}#sk-container-id-1 div.sk-label-container {text-align: center;}#sk-container-id-1 div.sk-container {/* jupyter's `normalize.less` sets `[hidden] { display: none; }` but bootstrap.min.css set `[hidden] { display: none !important; }` so we also need the `!important` here to be able to override the default hidden behavior on the sphinx rendered scikit-learn.org. See: https://github.com/scikit-learn/scikit-learn/issues/21755 */display: inline-block !important;position: relative;}#sk-container-id-1 div.sk-text-repr-fallback {display: none;}</style><div id=\"sk-container-id-1\" class=\"sk-top-container\"><div class=\"sk-text-repr-fallback\"><pre>LogisticRegression(random_state=12345)</pre><b>In a Jupyter environment, please rerun this cell to show the HTML representation or trust the notebook. <br />On GitHub, the HTML representation is unable to render, please try loading this page with nbviewer.org.</b></div><div class=\"sk-container\" hidden><div class=\"sk-item\"><div class=\"sk-estimator sk-toggleable\"><input class=\"sk-toggleable__control sk-hidden--visually\" id=\"sk-estimator-id-1\" type=\"checkbox\" checked><label for=\"sk-estimator-id-1\" class=\"sk-toggleable__label sk-toggleable__label-arrow\">LogisticRegression</label><div class=\"sk-toggleable__content\"><pre>LogisticRegression(random_state=12345)</pre></div></div></div></div></div>"
            ]
          },
          "metadata": {},
          "execution_count": 14
        }
      ],
      "source": [
        "# Instantiate model\n",
        "rl_model = LogisticRegression(random_state=12345)\n",
        "# Training model\n",
        "rl_model.fit(X_train, y_train)"
      ]
    },
    {
      "cell_type": "markdown",
      "metadata": {
        "id": "npfdxXIeKGP8"
      },
      "source": [
        "Accuracy Model"
      ]
    },
    {
      "cell_type": "code",
      "execution_count": 15,
      "metadata": {
        "colab": {
          "base_uri": "https://localhost:8080/"
        },
        "id": "sq0MH5RLKGP9",
        "outputId": "8ffd7ab6-f6fe-4d30-e8fa-3b039a6f15ac"
      },
      "outputs": [
        {
          "output_type": "stream",
          "name": "stdout",
          "text": [
            "LR Accuracy: 0.7589424572317263\n"
          ]
        }
      ],
      "source": [
        "rl_score_test = rl_model.score(X_test, y_test)\n",
        "print('LR Accuracy:', rl_score_test)"
      ]
    },
    {
      "cell_type": "markdown",
      "metadata": {
        "id": "05Vb5mGgKGP9"
      },
      "source": [
        "**Comments**\n",
        "\n",
        "> The data show us that our model has a high accuracy just as we had predicted although the training model is little more accurate than the validation model. It is probably the best model we can choose but we will try another model to be sure."
      ]
    },
    {
      "cell_type": "markdown",
      "metadata": {
        "id": "i8afZu_rKGP9"
      },
      "source": [
        "### Random Forest\n",
        "\n",
        "The model we select now will be a random forest because it consists of a high level of accuracy, the problem is that the speed of execution is slow, the more trees there will be slower this model.\n",
        "\n",
        "Let’s find the Best Model."
      ]
    },
    {
      "cell_type": "code",
      "execution_count": 16,
      "metadata": {
        "colab": {
          "base_uri": "https://localhost:8080/"
        },
        "id": "7FSMvmKLKGP9",
        "outputId": "433642d7-4506-4dab-8aab-9ed3d09e029d"
      },
      "outputs": [
        {
          "output_type": "stream",
          "name": "stdout",
          "text": [
            "Accuracy model on test dataset (n_estimators = 1):1\n"
          ]
        }
      ],
      "source": [
        "best_score = 0\n",
        "best_est   = 0\n",
        "\n",
        "for est in range(1,31):\n",
        "    ba_model = RandomForestClassifier(random_state=12345, n_estimators=est) # No of trees.\n",
        "    ba_model.fit(X_train, y_train)                                          # Training model\n",
        "    ba_model_score = ba_model.score(X_test, y_test)\n",
        "    if ba_model_score > best_score:\n",
        "        best_score += 1   # Best accuracy\n",
        "        best_est   += 1   # Mejores estimaciones correspondientes a la mejor puntuación de exactitud.\n",
        "\n",
        "print('Accuracy model on test dataset (n_estimators = {}):{}'.format(best_est, best_score))"
      ]
    },
    {
      "cell_type": "code",
      "execution_count": 17,
      "metadata": {
        "colab": {
          "base_uri": "https://localhost:8080/"
        },
        "id": "BKq_p2CrKGP9",
        "outputId": "95f3dec3-a8e2-4537-f132-a2028ede3d3c"
      },
      "outputs": [
        {
          "output_type": "stream",
          "name": "stdout",
          "text": [
            "Best model with n_estimartors is: 0.7853810264385692\n"
          ]
        }
      ],
      "source": [
        "print('Best model with n_estimartors is:', ba_model_score)"
      ]
    },
    {
      "cell_type": "markdown",
      "metadata": {
        "id": "OpZ7hGyyKGP9"
      },
      "source": [
        "**Comments**\n",
        "\n",
        "> The accuracy for this model improves with this technique, but we still have another model to test, so we will investigate it."
      ]
    },
    {
      "cell_type": "markdown",
      "metadata": {
        "id": "U2VJ4672KGP9"
      },
      "source": [
        "### Decision Tree.\n",
        "\n",
        "Among its features are having a low precision, although it has the highest speed of execution. Let’s look into it and see what results it can provide."
      ]
    },
    {
      "cell_type": "code",
      "execution_count": 18,
      "metadata": {
        "colab": {
          "base_uri": "https://localhost:8080/",
          "height": 75
        },
        "id": "M9TVZSKGKGP-",
        "outputId": "45c08e3d-1563-45b8-842a-50d5e1fe98f0"
      },
      "outputs": [
        {
          "output_type": "execute_result",
          "data": {
            "text/plain": [
              "DecisionTreeClassifier(random_state=12345)"
            ],
            "text/html": [
              "<style>#sk-container-id-2 {color: black;background-color: white;}#sk-container-id-2 pre{padding: 0;}#sk-container-id-2 div.sk-toggleable {background-color: white;}#sk-container-id-2 label.sk-toggleable__label {cursor: pointer;display: block;width: 100%;margin-bottom: 0;padding: 0.3em;box-sizing: border-box;text-align: center;}#sk-container-id-2 label.sk-toggleable__label-arrow:before {content: \"▸\";float: left;margin-right: 0.25em;color: #696969;}#sk-container-id-2 label.sk-toggleable__label-arrow:hover:before {color: black;}#sk-container-id-2 div.sk-estimator:hover label.sk-toggleable__label-arrow:before {color: black;}#sk-container-id-2 div.sk-toggleable__content {max-height: 0;max-width: 0;overflow: hidden;text-align: left;background-color: #f0f8ff;}#sk-container-id-2 div.sk-toggleable__content pre {margin: 0.2em;color: black;border-radius: 0.25em;background-color: #f0f8ff;}#sk-container-id-2 input.sk-toggleable__control:checked~div.sk-toggleable__content {max-height: 200px;max-width: 100%;overflow: auto;}#sk-container-id-2 input.sk-toggleable__control:checked~label.sk-toggleable__label-arrow:before {content: \"▾\";}#sk-container-id-2 div.sk-estimator input.sk-toggleable__control:checked~label.sk-toggleable__label {background-color: #d4ebff;}#sk-container-id-2 div.sk-label input.sk-toggleable__control:checked~label.sk-toggleable__label {background-color: #d4ebff;}#sk-container-id-2 input.sk-hidden--visually {border: 0;clip: rect(1px 1px 1px 1px);clip: rect(1px, 1px, 1px, 1px);height: 1px;margin: -1px;overflow: hidden;padding: 0;position: absolute;width: 1px;}#sk-container-id-2 div.sk-estimator {font-family: monospace;background-color: #f0f8ff;border: 1px dotted black;border-radius: 0.25em;box-sizing: border-box;margin-bottom: 0.5em;}#sk-container-id-2 div.sk-estimator:hover {background-color: #d4ebff;}#sk-container-id-2 div.sk-parallel-item::after {content: \"\";width: 100%;border-bottom: 1px solid gray;flex-grow: 1;}#sk-container-id-2 div.sk-label:hover label.sk-toggleable__label {background-color: #d4ebff;}#sk-container-id-2 div.sk-serial::before {content: \"\";position: absolute;border-left: 1px solid gray;box-sizing: border-box;top: 0;bottom: 0;left: 50%;z-index: 0;}#sk-container-id-2 div.sk-serial {display: flex;flex-direction: column;align-items: center;background-color: white;padding-right: 0.2em;padding-left: 0.2em;position: relative;}#sk-container-id-2 div.sk-item {position: relative;z-index: 1;}#sk-container-id-2 div.sk-parallel {display: flex;align-items: stretch;justify-content: center;background-color: white;position: relative;}#sk-container-id-2 div.sk-item::before, #sk-container-id-2 div.sk-parallel-item::before {content: \"\";position: absolute;border-left: 1px solid gray;box-sizing: border-box;top: 0;bottom: 0;left: 50%;z-index: -1;}#sk-container-id-2 div.sk-parallel-item {display: flex;flex-direction: column;z-index: 1;position: relative;background-color: white;}#sk-container-id-2 div.sk-parallel-item:first-child::after {align-self: flex-end;width: 50%;}#sk-container-id-2 div.sk-parallel-item:last-child::after {align-self: flex-start;width: 50%;}#sk-container-id-2 div.sk-parallel-item:only-child::after {width: 0;}#sk-container-id-2 div.sk-dashed-wrapped {border: 1px dashed gray;margin: 0 0.4em 0.5em 0.4em;box-sizing: border-box;padding-bottom: 0.4em;background-color: white;}#sk-container-id-2 div.sk-label label {font-family: monospace;font-weight: bold;display: inline-block;line-height: 1.2em;}#sk-container-id-2 div.sk-label-container {text-align: center;}#sk-container-id-2 div.sk-container {/* jupyter's `normalize.less` sets `[hidden] { display: none; }` but bootstrap.min.css set `[hidden] { display: none !important; }` so we also need the `!important` here to be able to override the default hidden behavior on the sphinx rendered scikit-learn.org. See: https://github.com/scikit-learn/scikit-learn/issues/21755 */display: inline-block !important;position: relative;}#sk-container-id-2 div.sk-text-repr-fallback {display: none;}</style><div id=\"sk-container-id-2\" class=\"sk-top-container\"><div class=\"sk-text-repr-fallback\"><pre>DecisionTreeClassifier(random_state=12345)</pre><b>In a Jupyter environment, please rerun this cell to show the HTML representation or trust the notebook. <br />On GitHub, the HTML representation is unable to render, please try loading this page with nbviewer.org.</b></div><div class=\"sk-container\" hidden><div class=\"sk-item\"><div class=\"sk-estimator sk-toggleable\"><input class=\"sk-toggleable__control sk-hidden--visually\" id=\"sk-estimator-id-2\" type=\"checkbox\" checked><label for=\"sk-estimator-id-2\" class=\"sk-toggleable__label sk-toggleable__label-arrow\">DecisionTreeClassifier</label><div class=\"sk-toggleable__content\"><pre>DecisionTreeClassifier(random_state=12345)</pre></div></div></div></div></div>"
            ]
          },
          "metadata": {},
          "execution_count": 18
        }
      ],
      "source": [
        "ad_model = DecisionTreeClassifier(random_state=12345) # Select model\n",
        "ad_model.fit(X_train, y_train)                        # Train  model"
      ]
    },
    {
      "cell_type": "markdown",
      "metadata": {
        "id": "0Z0LrG8LKGP-"
      },
      "source": [
        "Checking score"
      ]
    },
    {
      "cell_type": "code",
      "execution_count": 19,
      "metadata": {
        "colab": {
          "base_uri": "https://localhost:8080/"
        },
        "id": "bnfAw5xiKGP-",
        "outputId": "a34f3ee1-8c5b-4c61-85ee-123f2891f097"
      },
      "outputs": [
        {
          "output_type": "execute_result",
          "data": {
            "text/plain": [
              "0.7309486780715396"
            ]
          },
          "metadata": {},
          "execution_count": 19
        }
      ],
      "source": [
        "ad_model.score(X_test, y_test)"
      ]
    },
    {
      "cell_type": "markdown",
      "metadata": {
        "id": "CWTb14SlKGP-"
      },
      "source": [
        "Let’s find the best model by modifying the depth."
      ]
    },
    {
      "cell_type": "code",
      "execution_count": 20,
      "metadata": {
        "colab": {
          "base_uri": "https://localhost:8080/"
        },
        "id": "qUZLTvqzKGP-",
        "outputId": "07716f17-7535-4d21-c2ac-c31a64c81712"
      },
      "outputs": [
        {
          "output_type": "stream",
          "name": "stdout",
          "text": [
            "Accuracy for the model: 0.7869362363919129\n"
          ]
        }
      ],
      "source": [
        "best_model = None\n",
        "best_result = 0\n",
        "\n",
        "for depth in range(1, 5):\n",
        "    ad_model = DecisionTreeClassifier(random_state=12345, max_depth = depth) # creamos modelo con la profundidad proporcionada\n",
        "    ad_model.fit(X_train, y_train)               # entrena el modelo \n",
        "    predictions = ad_model.predict(X_test)       # obtén las predicciones del modelo\n",
        "    result = accuracy_score(y_test, predictions) # calcula la exactitud\n",
        "    if result > best_result:\n",
        "        best_model = ad_model\n",
        "        best_result = result\n",
        "        \n",
        "print(\"Accuracy for the model:\", best_result)"
      ]
    },
    {
      "cell_type": "markdown",
      "metadata": {
        "id": "eNlbHpsCKGP-"
      },
      "source": [
        "**Comments**\n",
        "\n",
        "> In a list we make adjusting the depth our model tells us that the best validation model has 78% for accuracy."
      ]
    },
    {
      "cell_type": "markdown",
      "metadata": {
        "id": "kS2kVDbgKGP-"
      },
      "source": [
        "## Check the Quality\n",
        "\n",
        "---\n",
        "\n",
        "In the previous point we found out which of all models met to have the threshold of 0.75, now in this section we will test our logistic regression model to know its operation with a dataset that our model does not know, in this case the validation."
      ]
    },
    {
      "cell_type": "markdown",
      "metadata": {
        "id": "F-qVq8IMKGP-"
      },
      "source": [
        "Define predictions"
      ]
    },
    {
      "cell_type": "code",
      "execution_count": 21,
      "metadata": {
        "id": "MsAhcsy7KGP-"
      },
      "outputs": [],
      "source": [
        "## Just remember the name of model is r1_model\n",
        "X_predict = rl_model.predict(X_val)"
      ]
    },
    {
      "cell_type": "markdown",
      "metadata": {
        "id": "Vug2vxASKGP_"
      },
      "source": [
        "Now, let's check out the model score"
      ]
    },
    {
      "cell_type": "code",
      "execution_count": 22,
      "metadata": {
        "colab": {
          "base_uri": "https://localhost:8080/"
        },
        "id": "CSI9W_9hKGP_",
        "outputId": "37cc110b-a04b-42c9-d303-873504d04b65"
      },
      "outputs": [
        {
          "output_type": "stream",
          "name": "stdout",
          "text": [
            "Accuracy of the model: 0.7262830482115086\n"
          ]
        }
      ],
      "source": [
        "LR_result = accuracy_score(y_val, X_predict)\n",
        "print('Accuracy of the model:', LR_result)"
      ]
    },
    {
      "cell_type": "markdown",
      "metadata": {
        "id": "ZTiRyaKzKGP_"
      },
      "source": [
        "## Test of Sanity.\n",
        "\n",
        "---\n",
        "\n",
        "For the test of sanity we will use the model **Dummy**, this is a base model that will serve as a reference to evaluate the accuracy of the other models. If any of our models have a score below the model **Dummy** it means that there is some error in our models."
      ]
    },
    {
      "cell_type": "code",
      "source": [
        "## Dummy Model\n",
        "d_model = DummyClassifier()\n",
        "d_model.fit(X_train, y_train)\n",
        "print(d_model)\n",
        "\n",
        "## Get Predictions\n",
        "d_model_preds = d_model.predict(X_test)\n",
        "\n",
        "# Score model\n",
        "dum_acc = accuracy_score(y_test, d_model_preds)\n",
        "print(\"Final Accuracy of Dummy Model:\", dum_acc)"
      ],
      "metadata": {
        "colab": {
          "base_uri": "https://localhost:8080/"
        },
        "id": "zG9_s40HtVez",
        "outputId": "3f165d7e-49b4-4fe9-a98e-30db18b94c85"
      },
      "execution_count": 23,
      "outputs": [
        {
          "output_type": "stream",
          "name": "stdout",
          "text": [
            "DummyClassifier()\n",
            "Final Accuracy of Dummy Model: 0.6951788491446346\n"
          ]
        }
      ]
    },
    {
      "cell_type": "markdown",
      "source": [
        "Finally, we will create a table to compare the metrics of the models with which we work in this project."
      ],
      "metadata": {
        "id": "1rjOaixzu8M2"
      }
    },
    {
      "cell_type": "code",
      "execution_count": 24,
      "metadata": {
        "colab": {
          "base_uri": "https://localhost:8080/",
          "height": 175
        },
        "id": "CT8sWQNUKGP_",
        "outputId": "d12341ad-677c-4f30-fc42-f66d4488bc9e"
      },
      "outputs": [
        {
          "output_type": "execute_result",
          "data": {
            "text/plain": [
              "                          0\n",
              "Random Forest        0.7853\n",
              "Logistic Regression  0.7589\n",
              "Decision Tree        0.7309\n",
              "Dummy Model          0.6900"
            ],
            "text/html": [
              "\n",
              "  <div id=\"df-3ba2272d-c3ab-4a59-b0c6-e455728290bd\">\n",
              "    <div class=\"colab-df-container\">\n",
              "      <div>\n",
              "<style scoped>\n",
              "    .dataframe tbody tr th:only-of-type {\n",
              "        vertical-align: middle;\n",
              "    }\n",
              "\n",
              "    .dataframe tbody tr th {\n",
              "        vertical-align: top;\n",
              "    }\n",
              "\n",
              "    .dataframe thead th {\n",
              "        text-align: right;\n",
              "    }\n",
              "</style>\n",
              "<table border=\"1\" class=\"dataframe\">\n",
              "  <thead>\n",
              "    <tr style=\"text-align: right;\">\n",
              "      <th></th>\n",
              "      <th>0</th>\n",
              "    </tr>\n",
              "  </thead>\n",
              "  <tbody>\n",
              "    <tr>\n",
              "      <th>Random Forest</th>\n",
              "      <td>0.7853</td>\n",
              "    </tr>\n",
              "    <tr>\n",
              "      <th>Logistic Regression</th>\n",
              "      <td>0.7589</td>\n",
              "    </tr>\n",
              "    <tr>\n",
              "      <th>Decision Tree</th>\n",
              "      <td>0.7309</td>\n",
              "    </tr>\n",
              "    <tr>\n",
              "      <th>Dummy Model</th>\n",
              "      <td>0.6900</td>\n",
              "    </tr>\n",
              "  </tbody>\n",
              "</table>\n",
              "</div>\n",
              "      <button class=\"colab-df-convert\" onclick=\"convertToInteractive('df-3ba2272d-c3ab-4a59-b0c6-e455728290bd')\"\n",
              "              title=\"Convert this dataframe to an interactive table.\"\n",
              "              style=\"display:none;\">\n",
              "        \n",
              "  <svg xmlns=\"http://www.w3.org/2000/svg\" height=\"24px\"viewBox=\"0 0 24 24\"\n",
              "       width=\"24px\">\n",
              "    <path d=\"M0 0h24v24H0V0z\" fill=\"none\"/>\n",
              "    <path d=\"M18.56 5.44l.94 2.06.94-2.06 2.06-.94-2.06-.94-.94-2.06-.94 2.06-2.06.94zm-11 1L8.5 8.5l.94-2.06 2.06-.94-2.06-.94L8.5 2.5l-.94 2.06-2.06.94zm10 10l.94 2.06.94-2.06 2.06-.94-2.06-.94-.94-2.06-.94 2.06-2.06.94z\"/><path d=\"M17.41 7.96l-1.37-1.37c-.4-.4-.92-.59-1.43-.59-.52 0-1.04.2-1.43.59L10.3 9.45l-7.72 7.72c-.78.78-.78 2.05 0 2.83L4 21.41c.39.39.9.59 1.41.59.51 0 1.02-.2 1.41-.59l7.78-7.78 2.81-2.81c.8-.78.8-2.07 0-2.86zM5.41 20L4 18.59l7.72-7.72 1.47 1.35L5.41 20z\"/>\n",
              "  </svg>\n",
              "      </button>\n",
              "      \n",
              "  <style>\n",
              "    .colab-df-container {\n",
              "      display:flex;\n",
              "      flex-wrap:wrap;\n",
              "      gap: 12px;\n",
              "    }\n",
              "\n",
              "    .colab-df-convert {\n",
              "      background-color: #E8F0FE;\n",
              "      border: none;\n",
              "      border-radius: 50%;\n",
              "      cursor: pointer;\n",
              "      display: none;\n",
              "      fill: #1967D2;\n",
              "      height: 32px;\n",
              "      padding: 0 0 0 0;\n",
              "      width: 32px;\n",
              "    }\n",
              "\n",
              "    .colab-df-convert:hover {\n",
              "      background-color: #E2EBFA;\n",
              "      box-shadow: 0px 1px 2px rgba(60, 64, 67, 0.3), 0px 1px 3px 1px rgba(60, 64, 67, 0.15);\n",
              "      fill: #174EA6;\n",
              "    }\n",
              "\n",
              "    [theme=dark] .colab-df-convert {\n",
              "      background-color: #3B4455;\n",
              "      fill: #D2E3FC;\n",
              "    }\n",
              "\n",
              "    [theme=dark] .colab-df-convert:hover {\n",
              "      background-color: #434B5C;\n",
              "      box-shadow: 0px 1px 3px 1px rgba(0, 0, 0, 0.15);\n",
              "      filter: drop-shadow(0px 1px 2px rgba(0, 0, 0, 0.3));\n",
              "      fill: #FFFFFF;\n",
              "    }\n",
              "  </style>\n",
              "\n",
              "      <script>\n",
              "        const buttonEl =\n",
              "          document.querySelector('#df-3ba2272d-c3ab-4a59-b0c6-e455728290bd button.colab-df-convert');\n",
              "        buttonEl.style.display =\n",
              "          google.colab.kernel.accessAllowed ? 'block' : 'none';\n",
              "\n",
              "        async function convertToInteractive(key) {\n",
              "          const element = document.querySelector('#df-3ba2272d-c3ab-4a59-b0c6-e455728290bd');\n",
              "          const dataTable =\n",
              "            await google.colab.kernel.invokeFunction('convertToInteractive',\n",
              "                                                     [key], {});\n",
              "          if (!dataTable) return;\n",
              "\n",
              "          const docLinkHtml = 'Like what you see? Visit the ' +\n",
              "            '<a target=\"_blank\" href=https://colab.research.google.com/notebooks/data_table.ipynb>data table notebook</a>'\n",
              "            + ' to learn more about interactive tables.';\n",
              "          element.innerHTML = '';\n",
              "          dataTable['output_type'] = 'display_data';\n",
              "          await google.colab.output.renderOutput(dataTable, element);\n",
              "          const docLink = document.createElement('div');\n",
              "          docLink.innerHTML = docLinkHtml;\n",
              "          element.appendChild(docLink);\n",
              "        }\n",
              "      </script>\n",
              "    </div>\n",
              "  </div>\n",
              "  "
            ]
          },
          "metadata": {},
          "execution_count": 24
        }
      ],
      "source": [
        "results = pd.DataFrame({'Logistic Regression' : [0.7589],\n",
        "                        'Random Forest': [0.7853],\n",
        "                        'Decision Tree': [0.7309],\n",
        "                        'Dummy Model'  : [0.69]\n",
        "                        }) \n",
        "results.T.sort_values(by=0, ascending=False)"
      ]
    },
    {
      "cell_type": "markdown",
      "metadata": {
        "id": "MEzw5lh_KGP_"
      },
      "source": [
        "# Conclusions\n",
        "\n",
        "> After working on each of our models, we can see that the best precision score is for the model **Random Forest,** with a final score of **0.78**. The worst model in our ranking is the **Decision Tree** which is only 3 points above the base model **Dummy**. None of our models is worse than the Dummy model, that means they all work properly."
      ]
    }
  ],
  "metadata": {
    "kernelspec": {
      "display_name": "Python 3 (ipykernel)",
      "language": "python",
      "name": "python3"
    },
    "language_info": {
      "codemirror_mode": {
        "name": "ipython",
        "version": 3
      },
      "file_extension": ".py",
      "mimetype": "text/x-python",
      "name": "python",
      "nbconvert_exporter": "python",
      "pygments_lexer": "ipython3",
      "version": "3.9.5"
    },
    "toc": {
      "base_numbering": 1,
      "nav_menu": {},
      "number_sections": true,
      "sideBar": true,
      "skip_h1_title": true,
      "title_cell": "Table of Contents",
      "title_sidebar": "Contents",
      "toc_cell": false,
      "toc_position": {},
      "toc_section_display": true,
      "toc_window_display": false
    },
    "colab": {
      "provenance": []
    }
  },
  "nbformat": 4,
  "nbformat_minor": 0
}